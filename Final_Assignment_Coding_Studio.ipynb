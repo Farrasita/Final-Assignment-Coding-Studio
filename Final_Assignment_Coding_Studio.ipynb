{
  "nbformat": 4,
  "nbformat_minor": 0,
  "metadata": {
    "colab": {
      "provenance": []
    },
    "kernelspec": {
      "name": "python3",
      "display_name": "Python 3"
    },
    "language_info": {
      "name": "python"
    }
  },
  "cells": [
    {
      "cell_type": "code",
      "execution_count": null,
      "metadata": {
        "id": "FxUQGYvz5K51"
      },
      "outputs": [],
      "source": [
        "Coding Studio Final Assignment\n",
        "Name : Farrasita Ashila\n",
        "Theme : Guess The Number Game"
      ]
    },
    {
      "cell_type": "code",
      "source": [
        "import random\n",
        "\n",
        "#menentukan batas tebakan dan angka random\n",
        "batas_tebakan = 4\n",
        "\n",
        "target_number = random.randint(1,100)\n",
        "\n",
        "\n",
        "#membuat looping untuk percobaan\n",
        "for coba in range(1,batas_tebakan+1):\n",
        "  jawaban_user= int(input(f\"percobaan ke {coba}:\")) #tempat user menjawab\n",
        "  #kondisi\n",
        "  if jawaban_user == target_number:\n",
        "    print(\"selamat, jawaban anda benar! permainan selesai.\")\n",
        "    break #keluar loop jika benar\n",
        "  else:\n",
        "     if coba == batas_tebakan:\n",
        "      print(f\"kesempatan habis, jawaban yang benar adalah {target_number}. permainan selesai.\")\n",
        "     else:\n",
        "      if jawaban_user < target_number:\n",
        "        print(\"jawaban salah! coba lebih besar lagi.\")\n",
        "      else:\n",
        "        if jawaban_user > target_number:\n",
        "          print(\"jawaban salah! coba lebih kecil lagi.\")\n",
        "\n"
      ],
      "metadata": {
        "colab": {
          "base_uri": "https://localhost:8080/"
        },
        "id": "N2VUQuhr5mrt",
        "outputId": "8b65562d-73bd-4885-d815-3afdd1a49537"
      },
      "execution_count": null,
      "outputs": [
        {
          "output_type": "stream",
          "name": "stdout",
          "text": [
            "percobaan ke 1:90\n",
            "jawaban salah! coba lebih kecil lagi.\n",
            "percobaan ke 2:87\n",
            "jawaban salah! coba lebih kecil lagi.\n",
            "percobaan ke 3:45\n",
            "jawaban salah! coba lebih kecil lagi.\n",
            "percobaan ke 4:23\n",
            "kesempatan habis, jawaban yang benar adalah 28. permainan selesai.\n"
          ]
        }
      ]
    },
    {
      "cell_type": "code",
      "source": [
        "\n"
      ],
      "metadata": {
        "id": "uuf_4Qmy-fqx"
      },
      "execution_count": null,
      "outputs": []
    }
  ]
}